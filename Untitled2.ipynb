{
  "nbformat": 4,
  "nbformat_minor": 0,
  "metadata": {
    "colab": {
      "private_outputs": true,
      "provenance": [],
      "authorship_tag": "ABX9TyOZroavVtW4y5duUbrjdYy/",
      "include_colab_link": true
    },
    "kernelspec": {
      "name": "python3",
      "display_name": "Python 3"
    },
    "language_info": {
      "name": "python"
    }
  },
  "cells": [
    {
      "cell_type": "markdown",
      "metadata": {
        "id": "view-in-github",
        "colab_type": "text"
      },
      "source": [
        "<a href=\"https://colab.research.google.com/github/mncrftfrcnm/contest/blob/main/Untitled2.ipynb\" target=\"_parent\"><img src=\"https://colab.research.google.com/assets/colab-badge.svg\" alt=\"Open In Colab\"/></a>"
      ]
    },
    {
      "cell_type": "code",
      "source": [
        "import torch\n",
        "import torch.nn as nn\n",
        "import torch.optim as optim\n",
        "import torchvision.transforms as transforms\n",
        "from torch.utils.data import DataLoader\n",
        "from torchvision.datasets import FashionMNIST\n",
        "import matplotlib.pyplot as plt\n",
        "import numpy as np"
      ],
      "metadata": {
        "id": "wTgn5FiMscJ3"
      },
      "execution_count": null,
      "outputs": []
    },
    {
      "cell_type": "code",
      "source": [
        "device = torch.device(\"cuda\" if torch.cuda.is_available() else \"cpu\")\n",
        "\n",
        "# Define transformations\n",
        "transform = transforms.Compose([transforms.ToTensor()])\n",
        "\n",
        "# Load Fashion MNIST dataset\n",
        "train_dataset = FashionMNIST(root='./data', train=True, transform=transform, download=True)\n",
        "test_dataset = FashionMNIST(root='./data', train=False, transform=transform, download=True)\n",
        "\n",
        "# Create data loaders\n",
        "batch_size = 64\n",
        "train_loader = DataLoader(dataset=train_dataset, batch_size=batch_size, shuffle=True)\n",
        "test_loader = DataLoader(dataset=test_dataset, batch_size=batch_size, shuffle=False)"
      ],
      "metadata": {
        "id": "avH4LFDZsixT"
      },
      "execution_count": null,
      "outputs": []
    },
    {
      "cell_type": "markdown",
      "source": [],
      "metadata": {
        "id": "KylsLkHTrh6X"
      }
    },
    {
      "cell_type": "code",
      "execution_count": null,
      "metadata": {
        "id": "fclpOBukqpXA"
      },
      "outputs": [],
      "source": [
        "#task1\n",
        "\n",
        "# Define the CNN model\n",
        "class FashionCNN(nn.Module):\n",
        "    def __init__(self):\n",
        "        super(FashionCNN, self).__init__()\n",
        "        self.conv1 = nn.Conv2d(1, 32, kernel_size=3, padding=1)\n",
        "        self.relu1 = nn.ReLU()\n",
        "        self.pool1 = nn.MaxPool2d(2, 2)\n",
        "        self.conv2 = nn.Conv2d(32, 64, kernel_size=3)\n",
        "        self.relu2 = nn.ReLU()\n",
        "        self.pool2 = nn.MaxPool2d(2, 2)\n",
        "        self.fc1 = nn.Linear(64 * 6 * 6, 600)\n",
        "        self.relu3 = nn.ReLU()\n",
        "        self.fc2 = nn.Linear(600, 10)\n",
        "\n",
        "    def forward(self, x):\n",
        "        x = self.pool1(self.relu1(self.conv1(x)))\n",
        "        x = self.pool2(self.relu2(self.conv2(x)))\n",
        "        x = x.view(-1, 64 * 6 * 6)\n",
        "        x = self.relu3(self.fc1(x))\n",
        "        x = self.fc2(x)\n",
        "        return x\n",
        "\n",
        "\n",
        "\n",
        "\n",
        "# Initialize the model, loss function, and optimizer\n",
        "model = FashionCNN().to(device)\n",
        "criterion = nn.CrossEntropyLoss()\n",
        "optimizer = optim.Adam(model.parameters(), lr=0.001)\n",
        "\n",
        "# Training and testing the model with loss visualization\n",
        "num_epochs = 10\n",
        "train_losses = []\n",
        "test_losses = []\n",
        "\n",
        "for epoch in range(num_epochs):\n",
        "    model.train()\n",
        "    epoch_train_loss = 0.0\n",
        "\n",
        "    for images, labels in train_loader:\n",
        "        images, labels = images.to(device), labels.to(device)\n",
        "\n",
        "        optimizer.zero_grad()\n",
        "        outputs = model(images)\n",
        "        loss = criterion(outputs, labels)\n",
        "        loss.backward()\n",
        "        optimizer.step()\n",
        "\n",
        "        epoch_train_loss += loss.item()\n",
        "\n",
        "    average_train_loss = epoch_train_loss / len(train_loader)\n",
        "    train_losses.append(average_train_loss)\n",
        "\n",
        "    # Testing the model\n",
        "    model.eval()\n",
        "    epoch_test_loss = 0.0\n",
        "\n",
        "    with torch.no_grad():\n",
        "        correct = 0\n",
        "        total = 0\n",
        "        for images, labels in test_loader:\n",
        "            images, labels = images.to(device), labels.to(device)\n",
        "            outputs = model(images)\n",
        "            loss = criterion(outputs, labels)\n",
        "            epoch_test_loss += loss.item()\n",
        "\n",
        "            _, predicted = torch.max(outputs.data, 1)\n",
        "            total += labels.size(0)\n",
        "            correct += (predicted == labels).sum().item()\n",
        "\n",
        "        average_test_loss = epoch_test_loss / len(test_loader)\n",
        "        test_losses.append(average_test_loss)\n",
        "\n",
        "        accuracy = correct / total\n",
        "        print(f'Epoch [{epoch + 1}/{num_epochs}], Train Loss: {average_train_loss:.4f}, Test Loss: {average_test_loss:.4f}, Test Accuracy: {100 * accuracy:.2f}%')\n",
        "\n",
        "# Plot the training and test losses over epochs\n",
        "plt.plot(range(1, num_epochs + 1), train_losses, label='Train', marker='o', linestyle='-')\n",
        "plt.plot(range(1, num_epochs + 1), test_losses, label='Test', marker='o', linestyle='-')\n",
        "plt.title('Training and Test Losses over Epochs')\n",
        "plt.xlabel('Epoch')\n",
        "plt.ylabel('Loss')\n",
        "plt.legend()\n",
        "plt.grid(True)\n",
        "plt.show()\n"
      ]
    },
    {
      "cell_type": "markdown",
      "source": [
        "conv layers made model much better"
      ],
      "metadata": {
        "id": "zOztqmJAsFBx"
      }
    },
    {
      "cell_type": "code",
      "source": [
        "#task2\n",
        "\n",
        "transform_test = transforms.Compose([transforms.ToTensor()])\n",
        "transform_train = transforms.Compose([\n",
        "    transforms.RandomHorizontalFlip(),\n",
        "    transforms.RandomVerticalFlip(),\n",
        "    transforms.RandomRotation(20),\n",
        "    transforms.ToTensor(),\n",
        "])\n",
        "# Load Fashion MNIST dataset with augmentations for the training set\n",
        "train_dataset = FashionMNIST(root='./data', train=True, transform=transform_train, download=True)\n",
        "test_dataset = FashionMNIST(root='./data', train=False, transform=transform_test, download=True)\n",
        "\n",
        "# Create data loaders\n",
        "batch_size = 64\n",
        "train_loader = DataLoader(dataset=train_dataset, batch_size=batch_size, shuffle=True)\n",
        "test_loader = DataLoader(dataset=test_dataset, batch_size=batch_size, shuffle=False)\n",
        "\n",
        "# Display the first 10 images from the augmented training dataset\n",
        "def show_images(images):\n",
        "    plt.figure(figsize=(12, 5))\n",
        "    for i in range(10):\n",
        "        plt.subplot(2, 5, i + 1)\n",
        "        plt.imshow(np.transpose(images[i], (1, 2, 0)), cmap='gray')\n",
        "        plt.axis('off')\n",
        "    plt.show()\n",
        "\n",
        "# Get the first batch of images from the train loader\n",
        "first_batch = next(iter(train_loader))\n",
        "images, labels = first_batch\n",
        "\n",
        "# Display the first 10 images\n",
        "show_images(images.numpy())\n",
        "for epoch in range(num_epochs):\n",
        "    model.train()\n",
        "    epoch_train_loss = 0.0\n",
        "\n",
        "    for images, labels in train_loader:\n",
        "        images, labels = images.to(device), labels.to(device)\n",
        "\n",
        "        optimizer.zero_grad()\n",
        "        outputs = model(images)\n",
        "        loss = criterion(outputs, labels)\n",
        "        loss.backward()\n",
        "        optimizer.step()\n",
        "\n",
        "        epoch_train_loss += loss.item()\n",
        "\n",
        "    average_train_loss = epoch_train_loss / len(train_loader)\n",
        "    train_losses.append(average_train_loss)\n",
        "\n",
        "    # Testing the model\n",
        "    model.eval()\n",
        "    epoch_test_loss = 0.0\n",
        "\n",
        "    with torch.no_grad():\n",
        "        correct = 0\n",
        "        total = 0\n",
        "        for images, labels in test_loader:\n",
        "            images, labels = images.to(device), labels.to(device)\n",
        "            outputs = model(images)\n",
        "            loss = criterion(outputs, labels)\n",
        "            epoch_test_loss += loss.item()\n",
        "\n",
        "            _, predicted = torch.max(outputs.data, 1)\n",
        "            total += labels.size(0)\n",
        "            correct += (predicted == labels).sum().item()\n",
        "\n",
        "        average_test_loss = epoch_test_loss / len(test_loader)\n",
        "        test_losses.append(average_test_loss)\n",
        "\n",
        "        accuracy = correct / total\n",
        "        print(f'Epoch [{epoch + 1}/{num_epochs}], Train Loss: {average_train_loss:.4f}, Test Loss: {average_test_loss:.4f}, Test Accuracy: {100 * accuracy:.2f}%')\n",
        "\n",
        "# Plot the training and test losses over epochs\n",
        "plt.plot(range(1, num_epochs + 1), train_losses, label='Train', marker='o', linestyle='-')\n",
        "plt.plot(range(1, num_epochs + 1), test_losses, label='Test', marker='o', linestyle='-')\n",
        "plt.title('Training and Test Losses over Epochs')\n",
        "plt.xlabel('Epoch')\n",
        "plt.ylabel('Loss')\n",
        "plt.legend()\n",
        "plt.grid(True)\n",
        "plt.show()\n"
      ],
      "metadata": {
        "id": "wqc6rPjps4m1"
      },
      "execution_count": null,
      "outputs": []
    },
    {
      "cell_type": "markdown",
      "source": [
        "as the augmentaitons are turning, bluring and do dome other things with the images, the model will be much more important in real life, where straight images are rare"
      ],
      "metadata": {
        "id": "gi73JAbjsifE"
      }
    }
  ]
}